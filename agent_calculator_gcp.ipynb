{
 "cells": [
  {
   "cell_type": "code",
   "execution_count": null,
   "id": "04c7f2c0-1f8f-48cb-982a-0d488e74e7e7",
   "metadata": {
    "tags": []
   },
   "outputs": [],
   "source": []
  },
  {
   "cell_type": "code",
   "execution_count": 13,
   "id": "4312edcd-6999-497c-bba4-6727f9076da0",
   "metadata": {
    "tags": []
   },
   "outputs": [],
   "source": [
    "from vertexai import generative_models\n",
    "from vertexai.generative_models import GenerativeModel, Tool, FunctionDeclaration\n",
    "from google.cloud import aiplatform\n",
    "import math"
   ]
  },
  {
   "cell_type": "code",
   "execution_count": 14,
   "id": "8d9227b2-9fcd-4f6c-917a-477b2077b727",
   "metadata": {
    "tags": []
   },
   "outputs": [],
   "source": [
    "# Step 1: 初始化 Vertex AI 项目与区域\n",
    "aiplatform.init(\n",
    "    project=\"vertex-ai-test-465220\",\n",
    "    location=\"us-central1\"  # Gemini 支持区域\n",
    ")"
   ]
  },
  {
   "cell_type": "code",
   "execution_count": 15,
   "id": "c256d979-c942-4173-aacb-545c14d06c4b",
   "metadata": {
    "tags": []
   },
   "outputs": [],
   "source": [
    "# Step 2: 构建一个安全的计算器工具\n",
    "def calculator_tool(expression: str) -> str:\n",
    "    try:\n",
    "        # 限定 eval 的作用域，防止恶意执行\n",
    "        result = eval(expression, {\"__builtins__\": None}, {\n",
    "            \"sqrt\": math.sqrt,\n",
    "            \"pow\": pow,\n",
    "            \"abs\": abs,\n",
    "            \"round\": round,\n",
    "            \"max\": max,\n",
    "            \"min\": min\n",
    "        })\n",
    "        return str(result)\n",
    "    except Exception as e:\n",
    "        return f\"Error evaluating expression: {e}\""
   ]
  },
  {
   "cell_type": "code",
   "execution_count": 16,
   "id": "b8562e5a-1279-457f-be0c-615d15500026",
   "metadata": {
    "tags": []
   },
   "outputs": [],
   "source": [
    "# Step 3: 定义 FunctionDeclaration，告诉 Gemini 工具格式\n",
    "calculator_function = FunctionDeclaration(\n",
    "    name=\"calculator\",\n",
    "    description=\"Evaluates math expressions like '2+2', 'sqrt(16)', or 'pow(2,3)'.\",\n",
    "    parameters={\n",
    "        \"type\": \"object\",\n",
    "        \"properties\": {\n",
    "            \"expression\": {\n",
    "                \"type\": \"string\",\n",
    "                \"description\": \"A valid math expression in Python syntax\"\n",
    "            }\n",
    "        },\n",
    "        \"required\": [\"expression\"]\n",
    "    }\n",
    ")"
   ]
  },
  {
   "cell_type": "code",
   "execution_count": 17,
   "id": "8baee216-a8cb-4abd-a8dd-241cb891de08",
   "metadata": {},
   "outputs": [],
   "source": [
    "# Step 4: 注册 Tool\n",
    "tool = Tool(function_declarations=[calculator_function])"
   ]
  },
  {
   "cell_type": "code",
   "execution_count": 22,
   "id": "fb163085-0e51-4956-b8bd-509c1da88cd8",
   "metadata": {
    "tags": []
   },
   "outputs": [],
   "source": [
    "# Step 5: 初始化 Gemini 模型（开启工具支持）\n",
    "model = GenerativeModel(\n",
    "    model_name=\"gemini-2.5-pro\",\n",
    "    tools=[tool]\n",
    ")"
   ]
  },
  {
   "cell_type": "code",
   "execution_count": 23,
   "id": "2b50c3f3-298f-478c-8400-c547f4a0204d",
   "metadata": {
    "tags": []
   },
   "outputs": [],
   "source": [
    "# Step 6: 启动对话 session\n",
    "chat = model.start_chat()"
   ]
  },
  {
   "cell_type": "code",
   "execution_count": 24,
   "id": "967277dc-1b28-402f-90b9-3e2bb4ccaa57",
   "metadata": {
    "tags": []
   },
   "outputs": [],
   "source": [
    "# Step 7: 输入用户请求\n",
    "user_prompt = \"What is the square root of 256 plus 13 multiplied by 2?\""
   ]
  },
  {
   "cell_type": "code",
   "execution_count": 25,
   "id": "b160bfd6-59b5-4fb7-afd7-b3804537df54",
   "metadata": {
    "tags": []
   },
   "outputs": [],
   "source": [
    "# 发送第一条消息（自然语言问题）\n",
    "response = chat.send_message(user_prompt)"
   ]
  },
  {
   "cell_type": "code",
   "execution_count": 27,
   "id": "4f1ae4d7-aca5-4103-a6de-fabc81c5a81f",
   "metadata": {
    "tags": []
   },
   "outputs": [
    {
     "name": "stdout",
     "output_type": "stream",
     "text": [
      "🤖 Gemini decided to call calculator with expression: sqrt(256) + 13 * 2\n",
      "🧮 Calculator result: 42.0\n",
      "🧠 Final Gemini reply: The square root of 256 plus 13 multiplied by 2 is 42. Is there anything else I can help you with?\n"
     ]
    }
   ],
   "source": [
    "# Step 8: 检查 Gemini 是否请求调用工具\n",
    "called_tool = False\n",
    "\n",
    "for candidate in response.candidates:\n",
    "    parts = candidate.content.parts\n",
    "    if parts and hasattr(parts[0], \"function_call\"):\n",
    "        call = parts[0].function_call\n",
    "        if call.name == \"calculator\":\n",
    "            called_tool = True\n",
    "            expr = call.args.get(\"expression\")\n",
    "            print(f\"🤖 Gemini decided to call calculator with expression: {expr}\")\n",
    "\n",
    "            # Step 9: 本地调用 calculator 工具\n",
    "            result = calculator_tool(expr)\n",
    "            print(f\"🧮 Calculator result: {result}\")\n",
    "\n",
    "            # Step 10: 把结果拼接成文本回传给 Gemini（代替 FunctionResponse）\n",
    "            final_reply = chat.send_message(\n",
    "                f\"The result of the calculation ({expr}) is: {result}\"\n",
    "            )\n",
    "            print(\"🧠 Final Gemini reply:\", final_reply.text)\n",
    "\n",
    "if not called_tool:\n",
    "    print(\"Gemini did not trigger any function call.\")\n",
    "    print(\"💬 Response:\", response.text)"
   ]
  },
  {
   "cell_type": "code",
   "execution_count": null,
   "id": "16336718-560a-4d02-9e5c-bb2c565f0209",
   "metadata": {},
   "outputs": [],
   "source": []
  }
 ],
 "metadata": {
  "environment": {
   "kernel": "conda-base-py",
   "name": "workbench-notebooks.m130",
   "type": "gcloud",
   "uri": "us-docker.pkg.dev/deeplearning-platform-release/gcr.io/workbench-notebooks:m130"
  },
  "kernelspec": {
   "display_name": "Python 3 (ipykernel) (Local)",
   "language": "python",
   "name": "conda-base-py"
  },
  "language_info": {
   "codemirror_mode": {
    "name": "ipython",
    "version": 3
   },
   "file_extension": ".py",
   "mimetype": "text/x-python",
   "name": "python",
   "nbconvert_exporter": "python",
   "pygments_lexer": "ipython3",
   "version": "3.10.18"
  }
 },
 "nbformat": 4,
 "nbformat_minor": 5
}
